{
  "cells": [
    {
      "cell_type": "code",
      "execution_count": null,
      "id": "133642c1",
      "metadata": {
        "id": "133642c1"
      },
      "outputs": [],
      "source": [
        "import pandas as pd\n",
        "from keras.preprocessing.text import Tokenizer\n",
        "from keras.preprocessing.sequence import pad_sequences\n",
        "import numpy as np\n",
        "from sklearn.model_selection import train_test_split\n",
        "from keras.models import Sequential\n",
        "from keras.layers import Embedding, SimpleRNN, GRU, LSTM, Bidirectional, Dense, Dropout\n",
        "from sklearn.metrics import accuracy_score, precision_score, recall_score, f1_score"
      ]
    },
    {
      "cell_type": "code",
      "execution_count": null,
      "id": "0ff58622",
      "metadata": {
        "id": "0ff58622"
      },
      "outputs": [],
      "source": [
        "data = pd.read_csv(\"urdu-sentiment-corpus-v1 (2).tsv\" , sep='\\t')"
      ]
    },
    {
      "cell_type": "code",
      "execution_count": null,
      "id": "622be206",
      "metadata": {
        "colab": {
          "base_uri": "https://localhost:8080/"
        },
        "id": "622be206",
        "outputId": "520e2abe-b93c-4506-cbc9-d5d265a05b41"
      },
      "outputs": [
        {
          "output_type": "stream",
          "name": "stdout",
          "text": [
            "<class 'pandas.core.frame.DataFrame'>\n",
            "RangeIndex: 1000 entries, 0 to 999\n",
            "Data columns (total 2 columns):\n",
            " #   Column  Non-Null Count  Dtype \n",
            "---  ------  --------------  ----- \n",
            " 0   Tweet   1000 non-null   object\n",
            " 1   Class   999 non-null    object\n",
            "dtypes: object(2)\n",
            "memory usage: 15.8+ KB\n"
          ]
        }
      ],
      "source": [
        "data.info()"
      ]
    },
    {
      "cell_type": "code",
      "execution_count": null,
      "id": "8fe31138",
      "metadata": {
        "colab": {
          "base_uri": "https://localhost:8080/"
        },
        "id": "8fe31138",
        "outputId": "bea2fbf3-05ce-43fe-e33d-d529d454639b"
      },
      "outputs": [
        {
          "output_type": "execute_result",
          "data": {
            "text/plain": [
              "Tweet    0\n",
              "Class    1\n",
              "dtype: int64"
            ]
          },
          "metadata": {},
          "execution_count": 51
        }
      ],
      "source": [
        "data.isna().sum()"
      ]
    },
    {
      "cell_type": "code",
      "execution_count": null,
      "id": "bf72c4c9",
      "metadata": {
        "id": "bf72c4c9"
      },
      "outputs": [],
      "source": [
        "data = data.dropna()"
      ]
    },
    {
      "cell_type": "code",
      "execution_count": null,
      "id": "62ea19dd",
      "metadata": {
        "colab": {
          "base_uri": "https://localhost:8080/"
        },
        "id": "62ea19dd",
        "outputId": "c3efadd3-9de0-4707-80a8-756b2caa16b4"
      },
      "outputs": [
        {
          "output_type": "execute_result",
          "data": {
            "text/plain": [
              "Tweet    0\n",
              "Class    0\n",
              "dtype: int64"
            ]
          },
          "metadata": {},
          "execution_count": 53
        }
      ],
      "source": [
        "data.isna().sum()"
      ]
    },
    {
      "cell_type": "code",
      "execution_count": null,
      "id": "18fec898",
      "metadata": {
        "colab": {
          "base_uri": "https://localhost:8080/"
        },
        "id": "18fec898",
        "outputId": "8ad90657-5f91-4a1c-b3ad-aa3b692acdd2"
      },
      "outputs": [
        {
          "output_type": "execute_result",
          "data": {
            "text/plain": [
              "array(['P', 'N', 'O'], dtype=object)"
            ]
          },
          "metadata": {},
          "execution_count": 54
        }
      ],
      "source": [
        "data[\"Class\"].unique()"
      ]
    },
    {
      "cell_type": "code",
      "execution_count": null,
      "id": "fa20bf23",
      "metadata": {
        "colab": {
          "base_uri": "https://localhost:8080/"
        },
        "id": "fa20bf23",
        "outputId": "f590e74f-391d-4ce9-8a10-043568a74c2e"
      },
      "outputs": [
        {
          "output_type": "stream",
          "name": "stdout",
          "text": [
            "Count of 'O': 20\n"
          ]
        }
      ],
      "source": [
        "count_O = data[\"Class\"].value_counts().get('O', 0)\n",
        "print(\"Count of 'O':\", count_O)"
      ]
    },
    {
      "cell_type": "code",
      "execution_count": null,
      "id": "e58c4252",
      "metadata": {
        "id": "e58c4252"
      },
      "outputs": [],
      "source": [
        "#dropping rows with O\n",
        "data = data[data[\"Class\"] != 'O']"
      ]
    },
    {
      "cell_type": "code",
      "execution_count": null,
      "id": "4f0eeffa",
      "metadata": {
        "colab": {
          "base_uri": "https://localhost:8080/"
        },
        "id": "4f0eeffa",
        "outputId": "9dab0a82-f602-49a6-ea2f-cdc11be7b967"
      },
      "outputs": [
        {
          "output_type": "execute_result",
          "data": {
            "text/plain": [
              "array(['P', 'N'], dtype=object)"
            ]
          },
          "metadata": {},
          "execution_count": 57
        }
      ],
      "source": [
        "data[\"Class\"].unique()"
      ]
    },
    {
      "cell_type": "code",
      "execution_count": null,
      "id": "74baa02e",
      "metadata": {
        "id": "74baa02e"
      },
      "outputs": [],
      "source": [
        "# Tokenization\n",
        "tokenizer = Tokenizer()\n",
        "tokenizer.fit_on_texts(data['Tweet'])\n",
        "sequences = tokenizer.texts_to_sequences(data['Tweet'])"
      ]
    },
    {
      "cell_type": "code",
      "execution_count": null,
      "id": "b23e7937",
      "metadata": {
        "id": "b23e7937"
      },
      "outputs": [],
      "source": [
        "max_len = max([len(seq) for seq in sequences])\n",
        "word_index = tokenizer.word_index\n",
        "vocab_size = len(word_index) + 1\n",
        "X = pad_sequences(sequences, maxlen=max_len)\n",
        "y = np.array([1 if label == 'P' else 0 for label in data['Class']])"
      ]
    },
    {
      "cell_type": "code",
      "execution_count": null,
      "id": "b2a50feb",
      "metadata": {
        "id": "b2a50feb"
      },
      "outputs": [],
      "source": [
        "X_train, X_test, y_train, y_test = train_test_split(X, y, test_size=0.25, random_state=42)"
      ]
    },
    {
      "cell_type": "code",
      "execution_count": null,
      "id": "928bfc4c",
      "metadata": {
        "id": "928bfc4c"
      },
      "outputs": [],
      "source": [
        "def create_model(model_type, num_layers, dropout_rate):\n",
        "    model = Sequential()\n",
        "    model.add(Embedding(vocab_size, 100, input_length=max_len))\n",
        "\n",
        "    #Layers\n",
        "    for _ in range(num_layers - 1):\n",
        "        if model_type == 'RNN':\n",
        "            model.add(SimpleRNN(64, return_sequences=True))\n",
        "        elif model_type == 'GRU':\n",
        "            model.add(GRU(64, return_sequences=True))\n",
        "        elif model_type == 'LSTM':\n",
        "            model.add(LSTM(64, return_sequences=True))\n",
        "        elif model_type == 'BiLSTM':\n",
        "            model.add(Bidirectional(LSTM(64, return_sequences=True)))\n",
        "        model.add(Dropout(dropout_rate))\n",
        "\n",
        "    # Final layer with return_sequences=False\n",
        "    if model_type == 'RNN':\n",
        "        model.add(SimpleRNN(64, return_sequences=False))\n",
        "    elif model_type == 'GRU':\n",
        "        model.add(GRU(64, return_sequences=False))\n",
        "    elif model_type == 'LSTM':\n",
        "        model.add(LSTM(64, return_sequences=False))\n",
        "    elif model_type == 'BiLSTM':\n",
        "        model.add(Bidirectional(LSTM(64, return_sequences=False)))\n",
        "    model.add(Dropout(dropout_rate))\n",
        "\n",
        "    # Using sigmoid\n",
        "    model.add(Dense(1, activation='sigmoid'))\n",
        "\n",
        "    # Compiling the model\n",
        "    model.compile(optimizer='adam', loss='binary_crossentropy', metrics=['accuracy'])\n",
        "\n",
        "    return model\n"
      ]
    },
    {
      "cell_type": "code",
      "execution_count": null,
      "id": "4248f380",
      "metadata": {
        "id": "4248f380"
      },
      "outputs": [],
      "source": [
        "hyperparameters = [\n",
        "    {'num_layers': 2, 'dropout': 0.3},\n",
        "    {'num_layers': 2, 'dropout': 0.7},\n",
        "    {'num_layers': 3, 'dropout': 0.3},\n",
        "    {'num_layers': 3, 'dropout': 0.7}\n",
        "]"
      ]
    },
    {
      "cell_type": "code",
      "execution_count": null,
      "id": "fc85e7c4",
      "metadata": {
        "colab": {
          "base_uri": "https://localhost:8080/"
        },
        "id": "fc85e7c4",
        "outputId": "bdf76c81-289a-4d78-9b9d-de59616af03c"
      },
      "outputs": [
        {
          "output_type": "stream",
          "name": "stdout",
          "text": [
            "8/8 [==============================] - 0s 10ms/step\n",
            "8/8 [==============================] - 1s 17ms/step\n",
            "8/8 [==============================] - 1s 21ms/step\n",
            "8/8 [==============================] - 2s 28ms/step\n",
            "8/8 [==============================] - 0s 10ms/step\n",
            "8/8 [==============================] - 1s 19ms/step\n",
            "8/8 [==============================] - 1s 21ms/step\n",
            "8/8 [==============================] - 2s 28ms/step\n",
            "8/8 [==============================] - 1s 14ms/step\n",
            "8/8 [==============================] - 1s 19ms/step\n",
            "8/8 [==============================] - 2s 26ms/step\n",
            "8/8 [==============================] - 3s 40ms/step\n",
            "8/8 [==============================] - 1s 12ms/step\n",
            "8/8 [==============================] - 2s 22ms/step\n",
            "8/8 [==============================] - 2s 28ms/step\n",
            "8/8 [==============================] - 4s 40ms/step\n"
          ]
        }
      ],
      "source": [
        "results = []\n",
        "\n",
        "\n",
        "for param in hyperparameters:\n",
        "    for model_type in ['RNN', 'GRU', 'LSTM', 'BiLSTM']:\n",
        "        model = create_model(model_type, param['num_layers'], param['dropout'])\n",
        "        history = model.fit(X_train, y_train, epochs=10, batch_size=64, validation_split=0.2, verbose=0)\n",
        "        y_pred = (model.predict(X_test) > 0.5).astype(int)\n",
        "        accuracy = accuracy_score(y_test, y_pred)\n",
        "        precision = precision_score(y_test, y_pred)\n",
        "        recall = recall_score(y_test, y_pred)\n",
        "        f_score = f1_score(y_test, y_pred)\n",
        "        results.append({\n",
        "            'Model': model_type,\n",
        "            'Layers': param['num_layers'],\n",
        "            'Dropout Rate': param['dropout'],\n",
        "            'Accuracy': accuracy,\n",
        "            'Precision': precision,\n",
        "            'Recall': recall,\n",
        "            'F-score': f_score\n",
        "        })"
      ]
    },
    {
      "cell_type": "code",
      "execution_count": null,
      "id": "4602aa85",
      "metadata": {
        "id": "4602aa85",
        "outputId": "6f6a36c4-1803-4029-f174-49243a259df6",
        "colab": {
          "base_uri": "https://localhost:8080/",
          "height": 551
        }
      },
      "outputs": [
        {
          "output_type": "execute_result",
          "data": {
            "text/plain": [
              "     Model  Layers  Dropout Rate  Accuracy  Precision    Recall   F-score\n",
              "0      RNN       2           0.3  0.453061   0.421488  0.443478  0.432203\n",
              "1      GRU       2           0.3  0.591837   0.561983  0.591304  0.576271\n",
              "2     LSTM       2           0.3  0.604082   0.561644  0.713043  0.628352\n",
              "3   BiLSTM       2           0.3  0.608163   0.587156  0.556522  0.571429\n",
              "4      RNN       2           0.7  0.546939   0.514925  0.600000  0.554217\n",
              "5      GRU       2           0.7  0.595918   0.567797  0.582609  0.575107\n",
              "6     LSTM       2           0.7  0.608163   0.579832  0.600000  0.589744\n",
              "7   BiLSTM       2           0.7  0.595918   0.546512  0.817391  0.655052\n",
              "8      RNN       3           0.3  0.497959   0.467213  0.495652  0.481013\n",
              "9      GRU       3           0.3  0.600000   0.587629  0.495652  0.537736\n",
              "10    LSTM       3           0.3  0.648980   0.626087  0.626087  0.626087\n",
              "11  BiLSTM       3           0.3  0.612245   0.578125  0.643478  0.609053\n",
              "12     RNN       3           0.7  0.481633   0.455224  0.530435  0.489960\n",
              "13     GRU       3           0.7  0.579592   0.550847  0.565217  0.557940\n",
              "14    LSTM       3           0.7  0.620408   0.585938  0.652174  0.617284\n",
              "15  BiLSTM       3           0.7  0.644898   0.609375  0.678261  0.641975"
            ],
            "text/html": [
              "\n",
              "  <div id=\"df-3e8ded98-2bcd-43f6-a38e-d0d2fbb2eebc\" class=\"colab-df-container\">\n",
              "    <div>\n",
              "<style scoped>\n",
              "    .dataframe tbody tr th:only-of-type {\n",
              "        vertical-align: middle;\n",
              "    }\n",
              "\n",
              "    .dataframe tbody tr th {\n",
              "        vertical-align: top;\n",
              "    }\n",
              "\n",
              "    .dataframe thead th {\n",
              "        text-align: right;\n",
              "    }\n",
              "</style>\n",
              "<table border=\"1\" class=\"dataframe\">\n",
              "  <thead>\n",
              "    <tr style=\"text-align: right;\">\n",
              "      <th></th>\n",
              "      <th>Model</th>\n",
              "      <th>Layers</th>\n",
              "      <th>Dropout Rate</th>\n",
              "      <th>Accuracy</th>\n",
              "      <th>Precision</th>\n",
              "      <th>Recall</th>\n",
              "      <th>F-score</th>\n",
              "    </tr>\n",
              "  </thead>\n",
              "  <tbody>\n",
              "    <tr>\n",
              "      <th>0</th>\n",
              "      <td>RNN</td>\n",
              "      <td>2</td>\n",
              "      <td>0.3</td>\n",
              "      <td>0.453061</td>\n",
              "      <td>0.421488</td>\n",
              "      <td>0.443478</td>\n",
              "      <td>0.432203</td>\n",
              "    </tr>\n",
              "    <tr>\n",
              "      <th>1</th>\n",
              "      <td>GRU</td>\n",
              "      <td>2</td>\n",
              "      <td>0.3</td>\n",
              "      <td>0.591837</td>\n",
              "      <td>0.561983</td>\n",
              "      <td>0.591304</td>\n",
              "      <td>0.576271</td>\n",
              "    </tr>\n",
              "    <tr>\n",
              "      <th>2</th>\n",
              "      <td>LSTM</td>\n",
              "      <td>2</td>\n",
              "      <td>0.3</td>\n",
              "      <td>0.604082</td>\n",
              "      <td>0.561644</td>\n",
              "      <td>0.713043</td>\n",
              "      <td>0.628352</td>\n",
              "    </tr>\n",
              "    <tr>\n",
              "      <th>3</th>\n",
              "      <td>BiLSTM</td>\n",
              "      <td>2</td>\n",
              "      <td>0.3</td>\n",
              "      <td>0.608163</td>\n",
              "      <td>0.587156</td>\n",
              "      <td>0.556522</td>\n",
              "      <td>0.571429</td>\n",
              "    </tr>\n",
              "    <tr>\n",
              "      <th>4</th>\n",
              "      <td>RNN</td>\n",
              "      <td>2</td>\n",
              "      <td>0.7</td>\n",
              "      <td>0.546939</td>\n",
              "      <td>0.514925</td>\n",
              "      <td>0.600000</td>\n",
              "      <td>0.554217</td>\n",
              "    </tr>\n",
              "    <tr>\n",
              "      <th>5</th>\n",
              "      <td>GRU</td>\n",
              "      <td>2</td>\n",
              "      <td>0.7</td>\n",
              "      <td>0.595918</td>\n",
              "      <td>0.567797</td>\n",
              "      <td>0.582609</td>\n",
              "      <td>0.575107</td>\n",
              "    </tr>\n",
              "    <tr>\n",
              "      <th>6</th>\n",
              "      <td>LSTM</td>\n",
              "      <td>2</td>\n",
              "      <td>0.7</td>\n",
              "      <td>0.608163</td>\n",
              "      <td>0.579832</td>\n",
              "      <td>0.600000</td>\n",
              "      <td>0.589744</td>\n",
              "    </tr>\n",
              "    <tr>\n",
              "      <th>7</th>\n",
              "      <td>BiLSTM</td>\n",
              "      <td>2</td>\n",
              "      <td>0.7</td>\n",
              "      <td>0.595918</td>\n",
              "      <td>0.546512</td>\n",
              "      <td>0.817391</td>\n",
              "      <td>0.655052</td>\n",
              "    </tr>\n",
              "    <tr>\n",
              "      <th>8</th>\n",
              "      <td>RNN</td>\n",
              "      <td>3</td>\n",
              "      <td>0.3</td>\n",
              "      <td>0.497959</td>\n",
              "      <td>0.467213</td>\n",
              "      <td>0.495652</td>\n",
              "      <td>0.481013</td>\n",
              "    </tr>\n",
              "    <tr>\n",
              "      <th>9</th>\n",
              "      <td>GRU</td>\n",
              "      <td>3</td>\n",
              "      <td>0.3</td>\n",
              "      <td>0.600000</td>\n",
              "      <td>0.587629</td>\n",
              "      <td>0.495652</td>\n",
              "      <td>0.537736</td>\n",
              "    </tr>\n",
              "    <tr>\n",
              "      <th>10</th>\n",
              "      <td>LSTM</td>\n",
              "      <td>3</td>\n",
              "      <td>0.3</td>\n",
              "      <td>0.648980</td>\n",
              "      <td>0.626087</td>\n",
              "      <td>0.626087</td>\n",
              "      <td>0.626087</td>\n",
              "    </tr>\n",
              "    <tr>\n",
              "      <th>11</th>\n",
              "      <td>BiLSTM</td>\n",
              "      <td>3</td>\n",
              "      <td>0.3</td>\n",
              "      <td>0.612245</td>\n",
              "      <td>0.578125</td>\n",
              "      <td>0.643478</td>\n",
              "      <td>0.609053</td>\n",
              "    </tr>\n",
              "    <tr>\n",
              "      <th>12</th>\n",
              "      <td>RNN</td>\n",
              "      <td>3</td>\n",
              "      <td>0.7</td>\n",
              "      <td>0.481633</td>\n",
              "      <td>0.455224</td>\n",
              "      <td>0.530435</td>\n",
              "      <td>0.489960</td>\n",
              "    </tr>\n",
              "    <tr>\n",
              "      <th>13</th>\n",
              "      <td>GRU</td>\n",
              "      <td>3</td>\n",
              "      <td>0.7</td>\n",
              "      <td>0.579592</td>\n",
              "      <td>0.550847</td>\n",
              "      <td>0.565217</td>\n",
              "      <td>0.557940</td>\n",
              "    </tr>\n",
              "    <tr>\n",
              "      <th>14</th>\n",
              "      <td>LSTM</td>\n",
              "      <td>3</td>\n",
              "      <td>0.7</td>\n",
              "      <td>0.620408</td>\n",
              "      <td>0.585938</td>\n",
              "      <td>0.652174</td>\n",
              "      <td>0.617284</td>\n",
              "    </tr>\n",
              "    <tr>\n",
              "      <th>15</th>\n",
              "      <td>BiLSTM</td>\n",
              "      <td>3</td>\n",
              "      <td>0.7</td>\n",
              "      <td>0.644898</td>\n",
              "      <td>0.609375</td>\n",
              "      <td>0.678261</td>\n",
              "      <td>0.641975</td>\n",
              "    </tr>\n",
              "  </tbody>\n",
              "</table>\n",
              "</div>\n",
              "    <div class=\"colab-df-buttons\">\n",
              "\n",
              "  <div class=\"colab-df-container\">\n",
              "    <button class=\"colab-df-convert\" onclick=\"convertToInteractive('df-3e8ded98-2bcd-43f6-a38e-d0d2fbb2eebc')\"\n",
              "            title=\"Convert this dataframe to an interactive table.\"\n",
              "            style=\"display:none;\">\n",
              "\n",
              "  <svg xmlns=\"http://www.w3.org/2000/svg\" height=\"24px\" viewBox=\"0 -960 960 960\">\n",
              "    <path d=\"M120-120v-720h720v720H120Zm60-500h600v-160H180v160Zm220 220h160v-160H400v160Zm0 220h160v-160H400v160ZM180-400h160v-160H180v160Zm440 0h160v-160H620v160ZM180-180h160v-160H180v160Zm440 0h160v-160H620v160Z\"/>\n",
              "  </svg>\n",
              "    </button>\n",
              "\n",
              "  <style>\n",
              "    .colab-df-container {\n",
              "      display:flex;\n",
              "      gap: 12px;\n",
              "    }\n",
              "\n",
              "    .colab-df-convert {\n",
              "      background-color: #E8F0FE;\n",
              "      border: none;\n",
              "      border-radius: 50%;\n",
              "      cursor: pointer;\n",
              "      display: none;\n",
              "      fill: #1967D2;\n",
              "      height: 32px;\n",
              "      padding: 0 0 0 0;\n",
              "      width: 32px;\n",
              "    }\n",
              "\n",
              "    .colab-df-convert:hover {\n",
              "      background-color: #E2EBFA;\n",
              "      box-shadow: 0px 1px 2px rgba(60, 64, 67, 0.3), 0px 1px 3px 1px rgba(60, 64, 67, 0.15);\n",
              "      fill: #174EA6;\n",
              "    }\n",
              "\n",
              "    .colab-df-buttons div {\n",
              "      margin-bottom: 4px;\n",
              "    }\n",
              "\n",
              "    [theme=dark] .colab-df-convert {\n",
              "      background-color: #3B4455;\n",
              "      fill: #D2E3FC;\n",
              "    }\n",
              "\n",
              "    [theme=dark] .colab-df-convert:hover {\n",
              "      background-color: #434B5C;\n",
              "      box-shadow: 0px 1px 3px 1px rgba(0, 0, 0, 0.15);\n",
              "      filter: drop-shadow(0px 1px 2px rgba(0, 0, 0, 0.3));\n",
              "      fill: #FFFFFF;\n",
              "    }\n",
              "  </style>\n",
              "\n",
              "    <script>\n",
              "      const buttonEl =\n",
              "        document.querySelector('#df-3e8ded98-2bcd-43f6-a38e-d0d2fbb2eebc button.colab-df-convert');\n",
              "      buttonEl.style.display =\n",
              "        google.colab.kernel.accessAllowed ? 'block' : 'none';\n",
              "\n",
              "      async function convertToInteractive(key) {\n",
              "        const element = document.querySelector('#df-3e8ded98-2bcd-43f6-a38e-d0d2fbb2eebc');\n",
              "        const dataTable =\n",
              "          await google.colab.kernel.invokeFunction('convertToInteractive',\n",
              "                                                    [key], {});\n",
              "        if (!dataTable) return;\n",
              "\n",
              "        const docLinkHtml = 'Like what you see? Visit the ' +\n",
              "          '<a target=\"_blank\" href=https://colab.research.google.com/notebooks/data_table.ipynb>data table notebook</a>'\n",
              "          + ' to learn more about interactive tables.';\n",
              "        element.innerHTML = '';\n",
              "        dataTable['output_type'] = 'display_data';\n",
              "        await google.colab.output.renderOutput(dataTable, element);\n",
              "        const docLink = document.createElement('div');\n",
              "        docLink.innerHTML = docLinkHtml;\n",
              "        element.appendChild(docLink);\n",
              "      }\n",
              "    </script>\n",
              "  </div>\n",
              "\n",
              "\n",
              "<div id=\"df-ad926e54-1095-40cc-9e2a-61b508e620b5\">\n",
              "  <button class=\"colab-df-quickchart\" onclick=\"quickchart('df-ad926e54-1095-40cc-9e2a-61b508e620b5')\"\n",
              "            title=\"Suggest charts\"\n",
              "            style=\"display:none;\">\n",
              "\n",
              "<svg xmlns=\"http://www.w3.org/2000/svg\" height=\"24px\"viewBox=\"0 0 24 24\"\n",
              "     width=\"24px\">\n",
              "    <g>\n",
              "        <path d=\"M19 3H5c-1.1 0-2 .9-2 2v14c0 1.1.9 2 2 2h14c1.1 0 2-.9 2-2V5c0-1.1-.9-2-2-2zM9 17H7v-7h2v7zm4 0h-2V7h2v10zm4 0h-2v-4h2v4z\"/>\n",
              "    </g>\n",
              "</svg>\n",
              "  </button>\n",
              "\n",
              "<style>\n",
              "  .colab-df-quickchart {\n",
              "      --bg-color: #E8F0FE;\n",
              "      --fill-color: #1967D2;\n",
              "      --hover-bg-color: #E2EBFA;\n",
              "      --hover-fill-color: #174EA6;\n",
              "      --disabled-fill-color: #AAA;\n",
              "      --disabled-bg-color: #DDD;\n",
              "  }\n",
              "\n",
              "  [theme=dark] .colab-df-quickchart {\n",
              "      --bg-color: #3B4455;\n",
              "      --fill-color: #D2E3FC;\n",
              "      --hover-bg-color: #434B5C;\n",
              "      --hover-fill-color: #FFFFFF;\n",
              "      --disabled-bg-color: #3B4455;\n",
              "      --disabled-fill-color: #666;\n",
              "  }\n",
              "\n",
              "  .colab-df-quickchart {\n",
              "    background-color: var(--bg-color);\n",
              "    border: none;\n",
              "    border-radius: 50%;\n",
              "    cursor: pointer;\n",
              "    display: none;\n",
              "    fill: var(--fill-color);\n",
              "    height: 32px;\n",
              "    padding: 0;\n",
              "    width: 32px;\n",
              "  }\n",
              "\n",
              "  .colab-df-quickchart:hover {\n",
              "    background-color: var(--hover-bg-color);\n",
              "    box-shadow: 0 1px 2px rgba(60, 64, 67, 0.3), 0 1px 3px 1px rgba(60, 64, 67, 0.15);\n",
              "    fill: var(--button-hover-fill-color);\n",
              "  }\n",
              "\n",
              "  .colab-df-quickchart-complete:disabled,\n",
              "  .colab-df-quickchart-complete:disabled:hover {\n",
              "    background-color: var(--disabled-bg-color);\n",
              "    fill: var(--disabled-fill-color);\n",
              "    box-shadow: none;\n",
              "  }\n",
              "\n",
              "  .colab-df-spinner {\n",
              "    border: 2px solid var(--fill-color);\n",
              "    border-color: transparent;\n",
              "    border-bottom-color: var(--fill-color);\n",
              "    animation:\n",
              "      spin 1s steps(1) infinite;\n",
              "  }\n",
              "\n",
              "  @keyframes spin {\n",
              "    0% {\n",
              "      border-color: transparent;\n",
              "      border-bottom-color: var(--fill-color);\n",
              "      border-left-color: var(--fill-color);\n",
              "    }\n",
              "    20% {\n",
              "      border-color: transparent;\n",
              "      border-left-color: var(--fill-color);\n",
              "      border-top-color: var(--fill-color);\n",
              "    }\n",
              "    30% {\n",
              "      border-color: transparent;\n",
              "      border-left-color: var(--fill-color);\n",
              "      border-top-color: var(--fill-color);\n",
              "      border-right-color: var(--fill-color);\n",
              "    }\n",
              "    40% {\n",
              "      border-color: transparent;\n",
              "      border-right-color: var(--fill-color);\n",
              "      border-top-color: var(--fill-color);\n",
              "    }\n",
              "    60% {\n",
              "      border-color: transparent;\n",
              "      border-right-color: var(--fill-color);\n",
              "    }\n",
              "    80% {\n",
              "      border-color: transparent;\n",
              "      border-right-color: var(--fill-color);\n",
              "      border-bottom-color: var(--fill-color);\n",
              "    }\n",
              "    90% {\n",
              "      border-color: transparent;\n",
              "      border-bottom-color: var(--fill-color);\n",
              "    }\n",
              "  }\n",
              "</style>\n",
              "\n",
              "  <script>\n",
              "    async function quickchart(key) {\n",
              "      const quickchartButtonEl =\n",
              "        document.querySelector('#' + key + ' button');\n",
              "      quickchartButtonEl.disabled = true;  // To prevent multiple clicks.\n",
              "      quickchartButtonEl.classList.add('colab-df-spinner');\n",
              "      try {\n",
              "        const charts = await google.colab.kernel.invokeFunction(\n",
              "            'suggestCharts', [key], {});\n",
              "      } catch (error) {\n",
              "        console.error('Error during call to suggestCharts:', error);\n",
              "      }\n",
              "      quickchartButtonEl.classList.remove('colab-df-spinner');\n",
              "      quickchartButtonEl.classList.add('colab-df-quickchart-complete');\n",
              "    }\n",
              "    (() => {\n",
              "      let quickchartButtonEl =\n",
              "        document.querySelector('#df-ad926e54-1095-40cc-9e2a-61b508e620b5 button');\n",
              "      quickchartButtonEl.style.display =\n",
              "        google.colab.kernel.accessAllowed ? 'block' : 'none';\n",
              "    })();\n",
              "  </script>\n",
              "</div>\n",
              "    </div>\n",
              "  </div>\n"
            ],
            "application/vnd.google.colaboratory.intrinsic+json": {
              "type": "dataframe",
              "variable_name": "evaluation",
              "summary": "{\n  \"name\": \"evaluation\",\n  \"rows\": 16,\n  \"fields\": [\n    {\n      \"column\": \"Model\",\n      \"properties\": {\n        \"dtype\": \"category\",\n        \"num_unique_values\": 4,\n        \"samples\": [\n          \"GRU\",\n          \"BiLSTM\",\n          \"RNN\"\n        ],\n        \"semantic_type\": \"\",\n        \"description\": \"\"\n      }\n    },\n    {\n      \"column\": \"Layers\",\n      \"properties\": {\n        \"dtype\": \"number\",\n        \"std\": 0,\n        \"min\": 2,\n        \"max\": 3,\n        \"num_unique_values\": 2,\n        \"samples\": [\n          3,\n          2\n        ],\n        \"semantic_type\": \"\",\n        \"description\": \"\"\n      }\n    },\n    {\n      \"column\": \"Dropout Rate\",\n      \"properties\": {\n        \"dtype\": \"number\",\n        \"std\": 0.20655911179772887,\n        \"min\": 0.3,\n        \"max\": 0.7,\n        \"num_unique_values\": 2,\n        \"samples\": [\n          0.7,\n          0.3\n        ],\n        \"semantic_type\": \"\",\n        \"description\": \"\"\n      }\n    },\n    {\n      \"column\": \"Accuracy\",\n      \"properties\": {\n        \"dtype\": \"number\",\n        \"std\": 0.05684079541912604,\n        \"min\": 0.4530612244897959,\n        \"max\": 0.6489795918367347,\n        \"num_unique_values\": 14,\n        \"samples\": [\n          0.6122448979591837,\n          0.5795918367346938\n        ],\n        \"semantic_type\": \"\",\n        \"description\": \"\"\n      }\n    },\n    {\n      \"column\": \"Precision\",\n      \"properties\": {\n        \"dtype\": \"number\",\n        \"std\": 0.05731434679447145,\n        \"min\": 0.4214876033057851,\n        \"max\": 0.6260869565217392,\n        \"num_unique_values\": 16,\n        \"samples\": [\n          0.4214876033057851,\n          0.5619834710743802\n        ],\n        \"semantic_type\": \"\",\n        \"description\": \"\"\n      }\n    },\n    {\n      \"column\": \"Recall\",\n      \"properties\": {\n        \"dtype\": \"number\",\n        \"std\": 0.09166766912438055,\n        \"min\": 0.4434782608695652,\n        \"max\": 0.8173913043478261,\n        \"num_unique_values\": 14,\n        \"samples\": [\n          0.6434782608695652,\n          0.5652173913043478\n        ],\n        \"semantic_type\": \"\",\n        \"description\": \"\"\n      }\n    },\n    {\n      \"column\": \"F-score\",\n      \"properties\": {\n        \"dtype\": \"number\",\n        \"std\": 0.06212762109073679,\n        \"min\": 0.43220338983050843,\n        \"max\": 0.6550522648083624,\n        \"num_unique_values\": 16,\n        \"samples\": [\n          0.43220338983050843,\n          0.576271186440678\n        ],\n        \"semantic_type\": \"\",\n        \"description\": \"\"\n      }\n    }\n  ]\n}"
            }
          },
          "metadata": {},
          "execution_count": 69
        }
      ],
      "source": [
        "evaluation = pd.DataFrame(results)\n",
        "evaluation"
      ]
    },
    {
      "cell_type": "code",
      "execution_count": null,
      "id": "01769859",
      "metadata": {
        "id": "01769859",
        "outputId": "2368d889-f8d3-4f58-e68e-815b588ebe4d",
        "colab": {
          "base_uri": "https://localhost:8080/"
        }
      },
      "outputs": [
        {
          "output_type": "stream",
          "name": "stdout",
          "text": [
            "Model             BiLSTM\n",
            "Layers                 2\n",
            "Dropout Rate         0.7\n",
            "Accuracy        0.595918\n",
            "Precision       0.546512\n",
            "Recall          0.817391\n",
            "F-score         0.655052\n",
            "Name: 7, dtype: object\n"
          ]
        }
      ],
      "source": [
        "max = evaluation.loc[evaluation['F-score'].idxmax()]\n",
        "print(max)"
      ]
    },
    {
      "cell_type": "code",
      "execution_count": null,
      "id": "55a333a6",
      "metadata": {
        "id": "55a333a6",
        "outputId": "595ec3e3-c948-4982-f6f2-16eedbb5a4e4",
        "colab": {
          "base_uri": "https://localhost:8080/"
        }
      },
      "outputs": [
        {
          "output_type": "stream",
          "name": "stdout",
          "text": [
            "Accuracy: 0.5959183673469388\n",
            "Precision: 0.5465116279069767\n",
            "Recall: 0.8173913043478261\n",
            "F-Score: 0.6550522648083624\n"
          ]
        }
      ],
      "source": [
        "bilstm = evaluation[(evaluation['Model'] == 'BiLSTM') & (evaluation['Layers'] == 2) & (evaluation['Dropout Rate'] == 0.7)]\n",
        "\n",
        "\n",
        "if not bilstm.empty:\n",
        "    accuracy_bilstm = bilstm['Accuracy'].values[0]\n",
        "    precision_bilstm = bilstm['Precision'].values[0]\n",
        "    recall_bilstm = bilstm['Recall'].values[0]\n",
        "    f_score_bilstm = bilstm['F-score'].values[0]\n",
        "\n",
        "    print(f\"Accuracy: {accuracy_bilstm}\")\n",
        "    print(f\"Precision: {precision_bilstm}\")\n",
        "    print(f\"Recall: {recall_bilstm}\")\n",
        "    print(f\"F-Score: {f_score_bilstm}\")"
      ]
    },
    {
      "cell_type": "code",
      "execution_count": null,
      "id": "205eeea8",
      "metadata": {
        "id": "205eeea8",
        "outputId": "39c016d9-999f-4ae9-9efc-e4c634e49e7f"
      },
      "outputs": [
        {
          "name": "stdout",
          "output_type": "stream",
          "text": [
            "Epoch 1/10\n",
            "10/10 [==============================] - 4s 108ms/step - loss: 0.6941 - accuracy: 0.4974 - val_loss: 0.6951 - val_accuracy: 0.4286\n",
            "Epoch 2/10\n",
            "10/10 [==============================] - 0s 30ms/step - loss: 0.6900 - accuracy: 0.5162 - val_loss: 0.6987 - val_accuracy: 0.4422\n",
            "Epoch 3/10\n",
            "10/10 [==============================] - 0s 28ms/step - loss: 0.6875 - accuracy: 0.5315 - val_loss: 0.7015 - val_accuracy: 0.4422\n",
            "Epoch 4/10\n",
            "10/10 [==============================] - 0s 30ms/step - loss: 0.6858 - accuracy: 0.5315 - val_loss: 0.7043 - val_accuracy: 0.4422\n",
            "Epoch 5/10\n",
            "10/10 [==============================] - 0s 29ms/step - loss: 0.6815 - accuracy: 0.5043 - val_loss: 0.7081 - val_accuracy: 0.4422\n",
            "Epoch 6/10\n",
            "10/10 [==============================] - 0s 28ms/step - loss: 0.6790 - accuracy: 0.5179 - val_loss: 0.7175 - val_accuracy: 0.4490\n",
            "Epoch 7/10\n",
            "10/10 [==============================] - 0s 29ms/step - loss: 0.6764 - accuracy: 0.5264 - val_loss: 0.7138 - val_accuracy: 0.5238\n",
            "Epoch 8/10\n",
            "10/10 [==============================] - 0s 29ms/step - loss: 0.6716 - accuracy: 0.5264 - val_loss: 0.7201 - val_accuracy: 0.4422\n",
            "Epoch 9/10\n",
            "10/10 [==============================] - 0s 30ms/step - loss: 0.6712 - accuracy: 0.5520 - val_loss: 0.7209 - val_accuracy: 0.5238\n",
            "Epoch 10/10\n",
            "10/10 [==============================] - 0s 29ms/step - loss: 0.6670 - accuracy: 0.5281 - val_loss: 0.7377 - val_accuracy: 0.4422\n",
            "8/8 [==============================] - 1s 11ms/step\n",
            "Accuracy: 0.46938775510204084\n",
            "Precision: 0.46835443037974683\n",
            "Recall: 0.9652173913043478\n",
            "F-score: 0.6306818181818182\n"
          ]
        }
      ],
      "source": [
        "#GloVe embeddings\n",
        "def load_glove_embeddings(embedding_file):\n",
        "    embeddings_index = {}\n",
        "    with open(embedding_file, encoding='utf-8') as f:\n",
        "        for line in f:\n",
        "            values = line.split()\n",
        "            word = values[0]\n",
        "            embeddings = np.asarray(values[1:], dtype='float32')\n",
        "            embeddings_index[word] = embeddings\n",
        "        return embeddings_index\n",
        "\n",
        "embedding_dim = 300\n",
        "glove_embeddings = load_glove_embeddings('glove.6B.300d.txt')\n",
        "\n",
        "#embedding matrix\n",
        "embedding_matrix = np.zeros((len(word_index) + 1, embedding_dim))\n",
        "for word, i in word_index.items():\n",
        "    embedding_vector = glove_embeddings.get(word)\n",
        "    if embedding_vector is not None:\n",
        "        embedding_matrix[i] = embedding_vector\n",
        "\n",
        "#model\n",
        "model = Sequential()\n",
        "model.add(Embedding(vocab_size, embedding_dim, weights=[embedding_matrix], input_length=max_len, trainable=False))\n",
        "model.add(Bidirectional(LSTM(64)))\n",
        "model.add(Dropout(0.7))\n",
        "model.add(Dense(1, activation='sigmoid'))\n",
        "\n",
        "#compile it\n",
        "model.compile(optimizer='adam', loss='binary_crossentropy', metrics=['accuracy'])\n",
        "\n",
        "#train it\n",
        "history = model.fit(X_train, y_train, epochs=10, batch_size=64, validation_split=0.2)\n",
        "\n",
        "\n",
        "y_pred = (model.predict(X_test) > 0.5).astype(int)\n",
        "accuracy_glove = accuracy_score(y_test, y_pred)\n",
        "precision_glove = precision_score(y_test, y_pred)\n",
        "recall_glove = recall_score(y_test, y_pred)\n",
        "f_score_glove = f1_score(y_test, y_pred)\n",
        "\n",
        "print(\"Accuracy:\", accuracy_glove)\n",
        "print(\"Precision:\", precision_glove)\n",
        "print(\"Recall:\", recall_glove)\n",
        "print(\"F-score:\", f_score_glove)"
      ]
    },
    {
      "cell_type": "code",
      "execution_count": null,
      "id": "48b2a3dd",
      "metadata": {
        "id": "48b2a3dd",
        "outputId": "7cb23abb-374e-44c1-b531-2beaeece8a7f"
      },
      "outputs": [
        {
          "name": "stdout",
          "output_type": "stream",
          "text": [
            "Epoch 1/10\n",
            "10/10 [==============================] - 4s 110ms/step - loss: 0.6935 - accuracy: 0.4787 - val_loss: 0.6936 - val_accuracy: 0.4558\n",
            "Epoch 2/10\n",
            "10/10 [==============================] - 0s 42ms/step - loss: 0.6929 - accuracy: 0.5145 - val_loss: 0.6944 - val_accuracy: 0.4558\n",
            "Epoch 3/10\n",
            "10/10 [==============================] - 0s 41ms/step - loss: 0.6921 - accuracy: 0.5213 - val_loss: 0.6954 - val_accuracy: 0.4558\n",
            "Epoch 4/10\n",
            "10/10 [==============================] - 0s 41ms/step - loss: 0.6919 - accuracy: 0.5213 - val_loss: 0.6954 - val_accuracy: 0.4558\n",
            "Epoch 5/10\n",
            "10/10 [==============================] - 0s 31ms/step - loss: 0.6911 - accuracy: 0.5196 - val_loss: 0.6951 - val_accuracy: 0.4558\n",
            "Epoch 6/10\n",
            "10/10 [==============================] - 0s 31ms/step - loss: 0.6908 - accuracy: 0.5162 - val_loss: 0.6956 - val_accuracy: 0.4490\n",
            "Epoch 7/10\n",
            "10/10 [==============================] - 0s 31ms/step - loss: 0.6902 - accuracy: 0.5230 - val_loss: 0.6944 - val_accuracy: 0.4558\n",
            "Epoch 8/10\n",
            "10/10 [==============================] - 0s 31ms/step - loss: 0.6895 - accuracy: 0.5315 - val_loss: 0.6937 - val_accuracy: 0.4558\n",
            "Epoch 9/10\n",
            "10/10 [==============================] - 0s 31ms/step - loss: 0.6886 - accuracy: 0.5298 - val_loss: 0.6962 - val_accuracy: 0.4558\n",
            "Epoch 10/10\n",
            "10/10 [==============================] - 0s 32ms/step - loss: 0.6874 - accuracy: 0.5213 - val_loss: 0.6981 - val_accuracy: 0.4558\n",
            "8/8 [==============================] - 1s 11ms/step\n",
            "Accuracy: 0.46122448979591835\n",
            "Precision: 0.46473029045643155\n",
            "Recall: 0.9739130434782609\n",
            "F-score: 0.6292134831460674\n"
          ]
        }
      ],
      "source": [
        "# Word2vec embeddings\n",
        "from gensim.models import KeyedVectors\n",
        "\n",
        "word2vec_model = KeyedVectors.load_word2vec_format('GoogleNews-vectors-negative300.bin', binary=True)\n",
        "\n",
        "#embedding matrix\n",
        "embedding_dim_wordvec = 300\n",
        "embedding_matrix_wordvec = np.zeros((len(word_index) + 1, embedding_dim))\n",
        "for word, i in word_index.items():\n",
        "    if word in word2vec_model:\n",
        "        embedding_matrix_wordvec[i] = word2vec_model[word]\n",
        "\n",
        "#model\n",
        "model = Sequential()\n",
        "model.add(Embedding(vocab_size, embedding_dim_wordvec, weights=[embedding_matrix_wordvec], input_length=max_len, trainable=False))\n",
        "model.add(Bidirectional(LSTM(64)))\n",
        "model.add(Dropout(0.7))\n",
        "model.add(Dense(1, activation='sigmoid'))\n",
        "\n",
        "#compile it\n",
        "model.compile(optimizer='adam', loss='binary_crossentropy', metrics=['accuracy'])\n",
        "\n",
        "#train it\n",
        "history = model.fit(X_train, y_train, epochs=10, batch_size=64, validation_split=0.2)\n",
        "\n",
        "\n",
        "y_pred = (model.predict(X_test) > 0.5).astype(int)\n",
        "accuracy_wordvec = accuracy_score(y_test, y_pred)\n",
        "precision_wordvec = precision_score(y_test, y_pred)\n",
        "recall_wordvec = recall_score(y_test, y_pred)\n",
        "f_score_wordvec = f1_score(y_test, y_pred)\n",
        "\n",
        "print(\"Accuracy:\", accuracy_wordvec)\n",
        "print(\"Precision:\", precision_wordvec)\n",
        "print(\"Recall:\", recall_wordvec)\n",
        "print(\"F-score:\", f_score_wordvec)"
      ]
    },
    {
      "cell_type": "code",
      "execution_count": null,
      "id": "702eb0cf",
      "metadata": {
        "id": "702eb0cf",
        "outputId": "3e35a2e6-04f7-4977-b0d5-8ff4e449ef35"
      },
      "outputs": [
        {
          "name": "stdout",
          "output_type": "stream",
          "text": [
            "Epoch 1/10\n",
            "10/10 [==============================] - 4s 106ms/step - loss: 0.6964 - accuracy: 0.5026 - val_loss: 0.6908 - val_accuracy: 0.5850\n",
            "Epoch 2/10\n",
            "10/10 [==============================] - 0s 32ms/step - loss: 0.6898 - accuracy: 0.5639 - val_loss: 0.6926 - val_accuracy: 0.4490\n",
            "Epoch 3/10\n",
            "10/10 [==============================] - 0s 30ms/step - loss: 0.6895 - accuracy: 0.5179 - val_loss: 0.6938 - val_accuracy: 0.4626\n",
            "Epoch 4/10\n",
            "10/10 [==============================] - 0s 35ms/step - loss: 0.6867 - accuracy: 0.5383 - val_loss: 0.6902 - val_accuracy: 0.5102\n",
            "Epoch 5/10\n",
            "10/10 [==============================] - 0s 32ms/step - loss: 0.6838 - accuracy: 0.5468 - val_loss: 0.6922 - val_accuracy: 0.4558\n",
            "Epoch 6/10\n",
            "10/10 [==============================] - 0s 35ms/step - loss: 0.6819 - accuracy: 0.5639 - val_loss: 0.6873 - val_accuracy: 0.5306\n",
            "Epoch 7/10\n",
            "10/10 [==============================] - 0s 32ms/step - loss: 0.6820 - accuracy: 0.5281 - val_loss: 0.6889 - val_accuracy: 0.5442\n",
            "Epoch 8/10\n",
            "10/10 [==============================] - 0s 31ms/step - loss: 0.6820 - accuracy: 0.5349 - val_loss: 0.6824 - val_accuracy: 0.6054\n",
            "Epoch 9/10\n",
            "10/10 [==============================] - 0s 30ms/step - loss: 0.6775 - accuracy: 0.5894 - val_loss: 0.6918 - val_accuracy: 0.5034\n",
            "Epoch 10/10\n",
            "10/10 [==============================] - 0s 31ms/step - loss: 0.6715 - accuracy: 0.5707 - val_loss: 0.6802 - val_accuracy: 0.5578\n",
            "8/8 [==============================] - 1s 10ms/step\n",
            "Accuracy: 0.6081632653061224\n",
            "Precision: 0.6\n",
            "Recall: 0.4956521739130435\n",
            "F-score: 0.5428571428571429\n"
          ]
        }
      ],
      "source": [
        "#FastText embeddings\n",
        "def load_fasttext_embeddings(embedding_file):\n",
        "    embeddings_index = {}\n",
        "    with open(embedding_file, encoding='utf-8') as f:\n",
        "        for line in f:\n",
        "            values = line.rstrip().split(' ')\n",
        "            word = values[0]\n",
        "            embeddings = np.asarray(values[1:], dtype='float32')\n",
        "            embeddings_index[word] = embeddings\n",
        "    return embeddings_index\n",
        "\n",
        "embedding_dim = 300\n",
        "fasttext_embeddings = load_fasttext_embeddings('wiki-news-300d-1M.vec')\n",
        "\n",
        "#embedding matrix\n",
        "embedding_matrix = np.zeros((len(word_index) + 1, embedding_dim))\n",
        "for word, i in word_index.items():\n",
        "    embedding_vector = fasttext_embeddings.get(word)\n",
        "    if embedding_vector is not None:\n",
        "        embedding_matrix[i] = embedding_vector\n",
        "\n",
        "#model\n",
        "model = Sequential()\n",
        "model.add(Embedding(vocab_size, embedding_dim, weights=[embedding_matrix], input_length=max_len, trainable=False))\n",
        "model.add(Bidirectional(LSTM(64)))\n",
        "model.add(Dropout(0.7))\n",
        "model.add(Dense(1, activation='sigmoid'))\n",
        "\n",
        "#compile it\n",
        "model.compile(optimizer='adam', loss='binary_crossentropy', metrics=['accuracy'])\n",
        "\n",
        "#train it\n",
        "history = model.fit(X_train, y_train, epochs=10, batch_size=64, validation_split=0.2)\n",
        "\n",
        "y_pred = (model.predict(X_test) > 0.5).astype(int)\n",
        "accuracy_fasttext = accuracy_score(y_test, y_pred)\n",
        "precision_fasttext = precision_score(y_test, y_pred)\n",
        "recall_fasttext = recall_score(y_test, y_pred)\n",
        "f_score_fasttext = f1_score(y_test, y_pred)\n",
        "\n",
        "print(\"Accuracy:\", accuracy_fasttext)\n",
        "print(\"Precision:\", precision_fasttext)\n",
        "print(\"Recall:\", recall_fasttext)\n",
        "print(\"F-score:\", f_score_fasttext)"
      ]
    },
    {
      "cell_type": "code",
      "source": [
        "#Elmo\n",
        "import tensorflow as tf\n",
        "import tensorflow_hub as hub\n",
        "\n",
        "data['Class'] = data['Class'].replace({'P': 1, 'N': 0})\n",
        "\n",
        "\n",
        "#loading the pre-trained ELMo model\n",
        "elmo = hub.load(\"https://tfhub.dev/google/elmo/3\")\n",
        "\n",
        "#converting the Tweets into embeddings\n",
        "X = elmo.signatures[\"default\"](tf.constant(data['Tweet'].tolist()))[\"elmo\"]\n",
        "\n",
        "#model\n",
        "model = Sequential([\n",
        "    Bidirectional(LSTM(64, return_sequences=True), input_shape=(None, 1024)),\n",
        "    Bidirectional(LSTM(64, return_sequences=False)),\n",
        "    Dropout(0.7),\n",
        "    Dense(1, activation='sigmoid')\n",
        "])\n",
        "\n",
        "X_train, X_test, y_train, y_test = train_test_split(X.numpy(), data['Class'], test_size=0.2, random_state=42)\n",
        "\n",
        "#compling it\n",
        "model.compile(optimizer='adam', loss='binary_crossentropy', metrics=['accuracy'])\n",
        "history = model.fit(X_train, y_train, epochs=10, batch_size=64, validation_split=0.2)\n",
        "\n",
        "\n",
        "y_pred = (model.predict(X_test) > 0.5).astype(int)\n",
        "\n",
        "\n",
        "accuracy_elmo = accuracy_score(y_test, y_pred)\n",
        "precision_elmo  = precision_score(y_test, y_pred)\n",
        "recall_elmo  = recall_score(y_test, y_pred)\n",
        "f1_elmo  = f1_score(y_test, y_pred)\n",
        "\n",
        "\n",
        "print(\"Accuracy:\", accuracy_elmo)\n",
        "print(\"Precision:\", precision_elmo)\n",
        "print(\"Recall:\", recall_elmo)\n",
        "print(\"F1 Score:\", f1_elmo)\n"
      ],
      "metadata": {
        "colab": {
          "base_uri": "https://localhost:8080/"
        },
        "id": "JNf_1LsYCS0U",
        "outputId": "99884859-cf75-4f0d-ff05-87f1ac92f0e1"
      },
      "id": "JNf_1LsYCS0U",
      "execution_count": null,
      "outputs": [
        {
          "output_type": "stream",
          "name": "stdout",
          "text": [
            "Epoch 1/10\n",
            "10/10 [==============================] - 16s 669ms/step - loss: 0.7017 - accuracy: 0.5208 - val_loss: 0.7037 - val_accuracy: 0.4395\n",
            "Epoch 2/10\n",
            "10/10 [==============================] - 3s 290ms/step - loss: 0.6881 - accuracy: 0.5335 - val_loss: 0.6955 - val_accuracy: 0.4968\n",
            "Epoch 3/10\n",
            "10/10 [==============================] - 3s 289ms/step - loss: 0.6664 - accuracy: 0.6054 - val_loss: 0.7034 - val_accuracy: 0.5287\n",
            "Epoch 4/10\n",
            "10/10 [==============================] - 3s 293ms/step - loss: 0.6279 - accuracy: 0.6502 - val_loss: 0.8420 - val_accuracy: 0.4268\n",
            "Epoch 5/10\n",
            "10/10 [==============================] - 4s 403ms/step - loss: 0.6153 - accuracy: 0.6454 - val_loss: 0.8449 - val_accuracy: 0.4140\n",
            "Epoch 6/10\n",
            "10/10 [==============================] - 3s 317ms/step - loss: 0.5911 - accuracy: 0.6869 - val_loss: 0.7717 - val_accuracy: 0.4777\n",
            "Epoch 7/10\n",
            "10/10 [==============================] - 3s 298ms/step - loss: 0.5622 - accuracy: 0.7141 - val_loss: 0.9859 - val_accuracy: 0.4140\n",
            "Epoch 8/10\n",
            "10/10 [==============================] - 4s 374ms/step - loss: 0.6050 - accuracy: 0.6661 - val_loss: 0.7824 - val_accuracy: 0.4522\n",
            "Epoch 9/10\n",
            "10/10 [==============================] - 4s 440ms/step - loss: 0.5412 - accuracy: 0.7252 - val_loss: 0.8060 - val_accuracy: 0.5159\n",
            "Epoch 10/10\n",
            "10/10 [==============================] - 3s 285ms/step - loss: 0.4463 - accuracy: 0.8179 - val_loss: 0.9554 - val_accuracy: 0.5350\n",
            "7/7 [==============================] - 2s 61ms/step\n",
            "Accuracy: 0.6020408163265306\n",
            "Precision: 0.5970149253731343\n",
            "Recall: 0.43956043956043955\n",
            "F1 Score: 0.5063291139240506\n"
          ]
        }
      ]
    },
    {
      "cell_type": "code",
      "execution_count": null,
      "id": "ca0e85ec",
      "metadata": {
        "colab": {
          "base_uri": "https://localhost:8080/"
        },
        "id": "ca0e85ec",
        "outputId": "29e9cccb-0f57-488d-f1d7-1a6cbde9fd72"
      },
      "outputs": [
        {
          "output_type": "stream",
          "name": "stdout",
          "text": [
            "                            Accuracy  Precision    Recall   F-score\n",
            "Model                                                              \n",
            "BiLSTM (Without Embedding)  0.595918   0.546512  0.817391  0.655052\n",
            "BiLSTM GloVe                0.469388   0.468354  0.965217  0.630682\n",
            "BiLSTM Word2Vec             0.461224   0.464730  0.973913  0.629213\n",
            "BiLSTM FastText             0.608163   0.600000  0.495652  0.542857\n",
            "BiLSTM Elmo                 0.602041   0.597015  0.439560  0.506329\n"
          ]
        }
      ],
      "source": [
        "evaluation_data = {\n",
        "    'Model': ['BiLSTM (Without Embedding)', 'BiLSTM GloVe', 'BiLSTM Word2Vec', 'BiLSTM FastText' , 'BiLSTM Elmo'],\n",
        "    'Accuracy': [accuracy_bilstm, accuracy_glove, accuracy_wordvec, accuracy_fasttext ,accuracy_elmo],\n",
        "    'Precision': [precision_bilstm, precision_glove, precision_wordvec, precision_fasttext,precision_elmo],\n",
        "    'Recall': [recall_bilstm, recall_glove, recall_wordvec, recall_fasttext,recall_elmo],\n",
        "    'F-score': [f_score_bilstm, f_score_glove, f_score_wordvec, f_score_fasttext,f1_elmo]\n",
        "}\n",
        "\n",
        "\n",
        "df = pd.DataFrame(evaluation_data)\n",
        "\n",
        "df.set_index('Model', inplace=True)\n",
        "\n",
        "print(df)"
      ]
    }
  ],
  "metadata": {
    "kernelspec": {
      "display_name": "Python 3 (ipykernel)",
      "language": "python",
      "name": "python3"
    },
    "language_info": {
      "codemirror_mode": {
        "name": "ipython",
        "version": 3
      },
      "file_extension": ".py",
      "mimetype": "text/x-python",
      "name": "python",
      "nbconvert_exporter": "python",
      "pygments_lexer": "ipython3",
      "version": "3.11.3"
    },
    "colab": {
      "provenance": []
    }
  },
  "nbformat": 4,
  "nbformat_minor": 5
}